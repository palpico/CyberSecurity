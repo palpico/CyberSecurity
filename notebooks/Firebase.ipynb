{
 "cells": [
  {
   "cell_type": "code",
   "execution_count": 155,
   "metadata": {},
   "outputs": [],
   "source": [
    "import json\n",
    "import requests\n",
    "import re\n",
    "import pandas as pd"
   ]
  },
  {
   "cell_type": "code",
   "execution_count": 156,
   "metadata": {
    "pycharm": {
     "name": "#%%\n"
    }
   },
   "outputs": [
    {
     "data": {
      "text/plain": "<Response [200]>"
     },
     "execution_count": 156,
     "metadata": {},
     "output_type": "execute_result"
    }
   ],
   "source": [
    "response = requests.get(\"https://twitter-dashboard-sentiment-default-rtdb.firebaseio.com/Pets.json\")\n",
    "response"
   ]
  },
  {
   "cell_type": "code",
   "execution_count": 157,
   "metadata": {
    "pycharm": {
     "name": "#%%\n"
    },
    "scrolled": false
   },
   "outputs": [],
   "source": [
    "data = json.loads(response.content.decode(response.encoding))"
   ]
  },
  {
   "cell_type": "code",
   "execution_count": 158,
   "outputs": [],
   "source": [
    "def debug(arg):\n",
    "    print('type: ',type(arg))\n",
    "    print('len: ',len(arg))\n",
    "    print(arg)"
   ],
   "metadata": {
    "collapsed": false,
    "pycharm": {
     "name": "#%%\n"
    }
   }
  },
  {
   "cell_type": "code",
   "source": [
    "def extract(data_arg,what_arg,from_arg):\n",
    "    info=[]\n",
    "    for d in data_arg.values():\n",
    "        info.append([d[from_arg], d[what_arg]])\n",
    "    df=pd.DataFrame(info,columns=[from_arg,what_arg])\n",
    "    return df"
   ],
   "metadata": {
    "collapsed": false,
    "pycharm": {
     "name": "#%%\n"
    }
   },
   "execution_count": 159,
   "outputs": []
  },
  {
   "cell_type": "markdown",
   "source": [
    "1.\tEl día de la semana en el que más se habló de una mascota."
   ],
   "metadata": {
    "collapsed": false,
    "pycharm": {
     "name": "#%% md\n"
    }
   }
  },
  {
   "cell_type": "code",
   "source": [
    "df_day=extract(data,'day','pet')\n",
    "debug(df_day)"
   ],
   "metadata": {
    "collapsed": false,
    "pycharm": {
     "name": "#%%\n"
    }
   },
   "execution_count": 160,
   "outputs": [
    {
     "name": "stdout",
     "output_type": "stream",
     "text": [
      "type:  <class 'pandas.core.frame.DataFrame'>\n",
      "len:  8012\n",
      "          pet      day\n",
      "0     parrots   Monday\n",
      "1     parrots   Monday\n",
      "2     parrots   Monday\n",
      "3     parrots   Monday\n",
      "4     parrots   Monday\n",
      "...       ...      ...\n",
      "8007     cats  Tuesday\n",
      "8008     cats  Tuesday\n",
      "8009     cats  Tuesday\n",
      "8010     cats  Tuesday\n",
      "8011     cats  Tuesday\n",
      "\n",
      "[8012 rows x 2 columns]\n"
     ]
    }
   ]
  },
  {
   "cell_type": "code",
   "execution_count": 161,
   "outputs": [
    {
     "name": "stdout",
     "output_type": "stream",
     "text": [
      "parrots Monday 1000\n",
      "goldfish Monday 1000\n",
      "canary Monday 1000\n",
      "turtles Monday 999\n",
      "hamster Monday 999\n",
      "rabbit Monday 1000\n",
      "cats Monday 999\n",
      "dogs Monday 1000\n"
     ]
    }
   ],
   "source": [
    "def populate_model(arg_df,w_arg,f_arg):\n",
    "    # TODO:parametrizar argumentos de pet y dia para reusar\n",
    "    for pet in arg_df[f_arg].unique():\n",
    "        counter=0\n",
    "        df=arg_df[arg_df.pet  == pet]\n",
    "        activity = df.pivot_table(index=[w_arg], aggfunc='size')\n",
    "        for day in df[w_arg].unique():\n",
    "            count=activity[day]\n",
    "            if count>counter:\n",
    "                counter=count\n",
    "                print(pet,day,count)\n",
    "                # model_day= day(pet=pet, day=day, count=count)\n",
    "                # model_day.save()\n",
    "\n",
    "populate_model(extract(data,'day','pet'),'day','pet')"
   ],
   "metadata": {
    "collapsed": false,
    "pycharm": {
     "name": "#%%\n"
    }
   }
  },
  {
   "cell_type": "markdown",
   "source": [
    "2.\tQue mascota tiene el mayor número de comentarios positivos, negativos o neutros."
   ],
   "metadata": {
    "collapsed": false,
    "pycharm": {
     "name": "#%% md\n"
    }
   }
  },
  {
   "cell_type": "code",
   "execution_count": 162,
   "outputs": [],
   "source": [
    "def populate_sentiment_model(arg_df, w_arg, f_arg):\n",
    "    for pet in arg_df[f_arg].unique():\n",
    "        df = arg_df[arg_df.pet == pet]\n",
    "        activity = df.pivot_table(index=[w_arg], aggfunc='size')\n",
    "        for sent in df[w_arg].unique():\n",
    "            count = activity[sent]\n",
    "                # model_sentiment = TempSentiment(pet=str(pet), sentiment=str(day), count=int(count))\n",
    "                # model_sentiment.save()\n",
    "populate_sentiment_model(extract(data,'sentiment','pet'),'sentiment','pet')"
   ],
   "metadata": {
    "collapsed": false,
    "pycharm": {
     "name": "#%%\n"
    }
   }
  },
  {
   "cell_type": "code",
   "execution_count": 163,
   "outputs": [
    {
     "data": {
      "text/plain": "            0  1\n0     parrots  1\n1     parrots -1\n2     parrots  0\n3     parrots -1\n4     parrots  1\n...       ... ..\n8007     cats  0\n8008     cats  1\n8009     cats  1\n8010     cats  1\n8011     cats  1\n\n[8012 rows x 2 columns]",
      "text/html": "<div>\n<style scoped>\n    .dataframe tbody tr th:only-of-type {\n        vertical-align: middle;\n    }\n\n    .dataframe tbody tr th {\n        vertical-align: top;\n    }\n\n    .dataframe thead th {\n        text-align: right;\n    }\n</style>\n<table border=\"1\" class=\"dataframe\">\n  <thead>\n    <tr style=\"text-align: right;\">\n      <th></th>\n      <th>0</th>\n      <th>1</th>\n    </tr>\n  </thead>\n  <tbody>\n    <tr>\n      <th>0</th>\n      <td>parrots</td>\n      <td>1</td>\n    </tr>\n    <tr>\n      <th>1</th>\n      <td>parrots</td>\n      <td>-1</td>\n    </tr>\n    <tr>\n      <th>2</th>\n      <td>parrots</td>\n      <td>0</td>\n    </tr>\n    <tr>\n      <th>3</th>\n      <td>parrots</td>\n      <td>-1</td>\n    </tr>\n    <tr>\n      <th>4</th>\n      <td>parrots</td>\n      <td>1</td>\n    </tr>\n    <tr>\n      <th>...</th>\n      <td>...</td>\n      <td>...</td>\n    </tr>\n    <tr>\n      <th>8007</th>\n      <td>cats</td>\n      <td>0</td>\n    </tr>\n    <tr>\n      <th>8008</th>\n      <td>cats</td>\n      <td>1</td>\n    </tr>\n    <tr>\n      <th>8009</th>\n      <td>cats</td>\n      <td>1</td>\n    </tr>\n    <tr>\n      <th>8010</th>\n      <td>cats</td>\n      <td>1</td>\n    </tr>\n    <tr>\n      <th>8011</th>\n      <td>cats</td>\n      <td>1</td>\n    </tr>\n  </tbody>\n</table>\n<p>8012 rows × 2 columns</p>\n</div>"
     },
     "execution_count": 163,
     "metadata": {},
     "output_type": "execute_result"
    }
   ],
   "source": [
    "sentiment_info=[]\n",
    "for t in data.values():\n",
    "    sentiment_info.append([t['pet'], t['sentiment']])\n",
    "\n",
    "df_sentiment=pd.DataFrame(sentiment_info)\n",
    "df_sentiment"
   ],
   "metadata": {
    "collapsed": false,
    "pycharm": {
     "name": "#%%\n"
    }
   }
  },
  {
   "cell_type": "markdown",
   "source": [
    "3.\tLos hashtags que más se usaron por mascota."
   ],
   "metadata": {
    "collapsed": false
   }
  },
  {
   "cell_type": "code",
   "execution_count": 164,
   "outputs": [
    {
     "data": {
      "text/plain": "          pet                                         clean_text\n0     parrots  [I've, just, learned, that, some, pirates, lit...\n1     parrots  [Therese, Coffey, really, there, Olympic, meda...\n2     parrots  [Just, learned, about, existence, DRACULA, PAR...\n3     parrots  [Therese, Coffey, really, there, Olympic, meda...\n4     parrots  [Ssunflower, seeds, popular, especially, parrots]\n...       ...                                                ...\n8007     cats  [Ñaña, salgas, “prófugos, sueltos, poner, cara...\n8008     cats                 [crocs, really, just, swamp, cats]\n8009     cats  [Trashy, people, toss, away, very, senior, cat...\n8010     cats                 [crocs, really, just, swamp, cats]\n8011     cats  [every, wake, posts, &amp, past, week, it’s, b...\n\n[8012 rows x 2 columns]",
      "text/html": "<div>\n<style scoped>\n    .dataframe tbody tr th:only-of-type {\n        vertical-align: middle;\n    }\n\n    .dataframe tbody tr th {\n        vertical-align: top;\n    }\n\n    .dataframe thead th {\n        text-align: right;\n    }\n</style>\n<table border=\"1\" class=\"dataframe\">\n  <thead>\n    <tr style=\"text-align: right;\">\n      <th></th>\n      <th>pet</th>\n      <th>clean_text</th>\n    </tr>\n  </thead>\n  <tbody>\n    <tr>\n      <th>0</th>\n      <td>parrots</td>\n      <td>[I've, just, learned, that, some, pirates, lit...</td>\n    </tr>\n    <tr>\n      <th>1</th>\n      <td>parrots</td>\n      <td>[Therese, Coffey, really, there, Olympic, meda...</td>\n    </tr>\n    <tr>\n      <th>2</th>\n      <td>parrots</td>\n      <td>[Just, learned, about, existence, DRACULA, PAR...</td>\n    </tr>\n    <tr>\n      <th>3</th>\n      <td>parrots</td>\n      <td>[Therese, Coffey, really, there, Olympic, meda...</td>\n    </tr>\n    <tr>\n      <th>4</th>\n      <td>parrots</td>\n      <td>[Ssunflower, seeds, popular, especially, parrots]</td>\n    </tr>\n    <tr>\n      <th>...</th>\n      <td>...</td>\n      <td>...</td>\n    </tr>\n    <tr>\n      <th>8007</th>\n      <td>cats</td>\n      <td>[Ñaña, salgas, “prófugos, sueltos, poner, cara...</td>\n    </tr>\n    <tr>\n      <th>8008</th>\n      <td>cats</td>\n      <td>[crocs, really, just, swamp, cats]</td>\n    </tr>\n    <tr>\n      <th>8009</th>\n      <td>cats</td>\n      <td>[Trashy, people, toss, away, very, senior, cat...</td>\n    </tr>\n    <tr>\n      <th>8010</th>\n      <td>cats</td>\n      <td>[crocs, really, just, swamp, cats]</td>\n    </tr>\n    <tr>\n      <th>8011</th>\n      <td>cats</td>\n      <td>[every, wake, posts, &amp;amp, past, week, it’s, b...</td>\n    </tr>\n  </tbody>\n</table>\n<p>8012 rows × 2 columns</p>\n</div>"
     },
     "execution_count": 164,
     "metadata": {},
     "output_type": "execute_result"
    }
   ],
   "source": [
    "tag_info=[]\n",
    "for t in data.values():\n",
    "    tags=[i for i in t['clean_text'].split() if len(i)>3]\n",
    "    tag_info.append([t['pet'],tags ])\n",
    "df_tag=pd.DataFrame(tag_info, columns=['pet','clean_text'])\n",
    "df_tag"
   ],
   "metadata": {
    "collapsed": false,
    "pycharm": {
     "name": "#%%\n"
    }
   }
  },
  {
   "cell_type": "code",
   "execution_count": 165,
   "outputs": [],
   "source": [
    "# # df_sentiment=extract(data,'clean_text','pet')\n",
    "# # df_day=most_of(df_day,'day')\n",
    "# # df_day=most_of(extract(data,'day'),'day')\n",
    "# dfl=pd.Series(' '.join(df_tag['hashtags']).lower().split()).value_counts()[:10]\n",
    "# debug(dfl)"
   ],
   "metadata": {
    "collapsed": false,
    "pycharm": {
     "name": "#%%\n"
    }
   }
  },
  {
   "cell_type": "code",
   "execution_count": 167,
   "outputs": [
    {
     "name": "stdout",
     "output_type": "stream",
     "text": [
      "type:  <class 'list'>\n",
      "len:  5\n",
      "['just', 'Hamster', 'with', 'that', 'have']\n"
     ]
    }
   ],
   "source": [
    "full_list = []  # list containing all words of all texts\n",
    "for elmnt in df_tag['clean_text']:  # loop over lists in df\n",
    "    full_list += elmnt  # append elements of lists to full list\n",
    "val_counts = pd.Series(full_list).value_counts()[:5]\n",
    "debug(list(val_counts.index))"
   ],
   "metadata": {
    "collapsed": false,
    "pycharm": {
     "name": "#%%\n"
    }
   }
  },
  {
   "cell_type": "code",
   "execution_count": 179,
   "outputs": [
    {
     "name": "stdout",
     "output_type": "stream",
     "text": [
      "type:  <class 'pandas.core.frame.DataFrame'>\n",
      "len:  1000\n",
      "          pet                                         clean_text\n",
      "0     parrots  [I've, just, learned, that, some, pirates, lit...\n",
      "1     parrots  [Therese, Coffey, really, there, Olympic, meda...\n",
      "2     parrots  [Just, learned, about, existence, DRACULA, PAR...\n",
      "3     parrots  [Therese, Coffey, really, there, Olympic, meda...\n",
      "4     parrots  [Ssunflower, seeds, popular, especially, parrots]\n",
      "...       ...                                                ...\n",
      "7978  parrots  [Since, crowdfunding, #operationOBP, 2016, we'...\n",
      "7981  parrots  [Therese, Coffey, really, there, Olympic, meda...\n",
      "7982  parrots  [_ayy, Parrots, really, killing, goth, aesthetic]\n",
      "7984  parrots  [Audubon, condemns, murder, Gonzalo, Cardona, ...\n",
      "7986  parrots  [Funny, only, pipe, this, time, year, every, y...\n",
      "\n",
      "[1000 rows x 2 columns]\n",
      "type:  <class 'pandas.core.frame.DataFrame'>\n",
      "len:  1000\n",
      "           pet                                         clean_text\n",
      "358   goldfish  [Same, some, legal, stuff, Brain, goldfish, th...\n",
      "359   goldfish             [gold, fish, first, ribbons, goldfish]\n",
      "360   goldfish  [very, tough, Seem, have, concentration, goldf...\n",
      "362   goldfish                                    [open🍩🧁, #チェリま]\n",
      "365   goldfish  [_nabeo, 僕の水泡眼も、くの字転覆のまま亡くなりました。, 僕も隔離・薬浴・塩浴しか...\n",
      "...        ...                                                ...\n",
      "7992  goldfish          [Spifey, fact, invented, snack, Goldfish]\n",
      "7993  goldfish  [meals, consist, goldfish, coffee, still, have...\n",
      "7994  goldfish                                 [Goldfish, memory]\n",
      "7995  goldfish  [_RJC, helft, actualiteitenprogramma, ging, ov...\n",
      "7996  goldfish  [Some, earrings, just, listed, etsy, shop, inc...\n",
      "\n",
      "[1000 rows x 2 columns]\n",
      "type:  <class 'pandas.core.frame.DataFrame'>\n",
      "len:  1000\n",
      "         pet                                         clean_text\n",
      "526   canary  [onmsft, Microsoft, Edge, Canary, make, easier...\n",
      "527   canary  [onmsft, Microsoft, Edge, Canary, make, easier...\n",
      "529   canary  [Shazam, Black, Canary, Justice, League, team?...\n",
      "531   canary  [onmsft, Microsoft, Edge, Canary, make, easier...\n",
      "532   canary  [\"Canary, Mail, Privacy-friendly, email, macOS...\n",
      "...      ...                                                ...\n",
      "7951  canary  [DIRECTO, -&gt, DOMINIO, MENTAL, -&gt, CORONEL...\n",
      "7955  canary  [______, don’t, look, like, Canary, definetly,...\n",
      "7957  canary  [just, case, didn't, sense, sarcasm.., agree, ...\n",
      "7959  canary  [_Bats, Information📋, •Name, Barbara, Gordon, ...\n",
      "7960  canary  [Dozens, experts, call, Longleat, give, 'UK's,...\n",
      "\n",
      "[1000 rows x 2 columns]\n",
      "type:  <class 'pandas.core.frame.DataFrame'>\n",
      "len:  999\n",
      "          pet                                         clean_text\n",
      "658   turtles  [Nintendo, PALCOM, TMNT, Teenage, Mutant, Ninj...\n",
      "660   turtles  [Sealed, Gameboy, Turtles, TMNT, Back, From, S...\n",
      "665   turtles  [Aproveitando, Konami, jogos, favoritos:, Danc...\n",
      "669   turtles  [Leatherbacks, biggest, turtles, largest, rept...\n",
      "670   turtles  [There's, whole, websites, devoted, News, live...\n",
      "...       ...                                                ...\n",
      "7926  turtles  [have, personal, head, canon, that, splinter, ...\n",
      "7927  turtles  [\"Culture, politically, correct, designed, sti...\n",
      "7928  turtles  [Hyenas, Squirrels, Manta, Rays, Turtles...., ...\n",
      "7929  turtles  [just, chillin, with, some, bathing, turtles, ...\n",
      "7934  turtles  [Offer, chrismas, egg??, Lf:turtles, kangaroos...\n",
      "\n",
      "[999 rows x 2 columns]\n",
      "type:  <class 'pandas.core.frame.DataFrame'>\n",
      "len:  999\n",
      "          pet                                         clean_text\n",
      "3355  hamster     [never, before, have, dearly, wished, hamster]\n",
      "3357  hamster                                  [Hamster, Rocket]\n",
      "3358  hamster                                  [Hamster, Rocket]\n",
      "3359  hamster           [fans, #TheWire.., give, Hamster, Damn!]\n",
      "3360  hamster                                  [Hamster, Rocket]\n",
      "...       ...                                                ...\n",
      "7673  hamster                        [Hamster, rocket, parkour!]\n",
      "7674  hamster                                  [Hamster, Rocket]\n",
      "7676  hamster  [fascinated, hamster, think, also, afraid, whi...\n",
      "7678  hamster                         [Hamster, rocket, parkour]\n",
      "7679  hamster        [alguem, fala, como, faco, hamster, gostar]\n",
      "\n",
      "[999 rows x 2 columns]\n",
      "type:  <class 'pandas.core.frame.DataFrame'>\n",
      "len:  1000\n",
      "         pet                                         clean_text\n",
      "3550  rabbit  [_rabbit, Isso, simplificação, desonesta, Prin...\n",
      "3551  rabbit    [dumb, little, rabbit, baby, built, like, hulk]\n",
      "3553  rabbit  [late, this.., episodes, already, hooked, iron...\n",
      "3555  rabbit  [woooow, full, personality, Jessica!, Incredib...\n",
      "3557  rabbit         [Today, cloud, looks, just, like, rabbit.]\n",
      "...      ...                                                ...\n",
      "7885  rabbit  [view, Twitter, similarly, movie, Matrix, want...\n",
      "7887  rabbit     [then...can, Jessica, Rabbit, pose, together?]\n",
      "7888  rabbit                                                 []\n",
      "7890  rabbit  [turtle, rabbit, playing, around, with, chipmu...\n",
      "7893  rabbit                                  [_juno, 죽었습니다(?)]\n",
      "\n",
      "[1000 rows x 2 columns]\n",
      "type:  <class 'pandas.core.frame.DataFrame'>\n",
      "len:  1014\n",
      "       pet                                         clean_text\n",
      "4302  cats  [Cats, dogs, need, COVID, vaccines, curb, spre...\n",
      "4304  cats  [don’t, think, grew, with, both, cats, dogs, m...\n",
      "4306  cats  [they’re, favs, too!, (tho, cats, always, with...\n",
      "4307  cats                   [Sheshh, will, beat, Your, cats]\n",
      "4308  cats  [_The_Dev, real, there, many, cute, cats, this...\n",
      "...    ...                                                ...\n",
      "8007  cats  [Ñaña, salgas, “prófugos, sueltos, poner, cara...\n",
      "8008  cats                 [crocs, really, just, swamp, cats]\n",
      "8009  cats  [Trashy, people, toss, away, very, senior, cat...\n",
      "8010  cats                 [crocs, really, just, swamp, cats]\n",
      "8011  cats  [every, wake, posts, &amp, past, week, it’s, b...\n",
      "\n",
      "[1014 rows x 2 columns]\n",
      "type:  <class 'pandas.core.frame.DataFrame'>\n",
      "len:  1000\n",
      "       pet                                         clean_text\n",
      "6140  dogs  [Thank, featuring, Instagram, pawccount, goofy...\n",
      "6141  dogs  [_Figueroa, Spotted, White, House, South, Lawn...\n",
      "6142  dogs  [should, never, permitted, hold, public, offic...\n",
      "6143  dogs  [Please, retweet, help, Dexter, find, home, #G...\n",
      "6144  dogs             [Dogs, officially, back, White, House]\n",
      "...    ...                                                ...\n",
      "7373  dogs                         [Biden's, dogs, barking..]\n",
      "7374  dogs  [Every, police, department, going, have, fleet...\n",
      "7375  dogs  [That, dogs, Soon, you’ll, getting, them, shot...\n",
      "7376  dogs                                                 []\n",
      "7377  dogs                          [have, dogs, wanna, them]\n",
      "\n",
      "[1000 rows x 2 columns]\n"
     ]
    }
   ],
   "source": [
    "tag_info=[]\n",
    "for t in df_tag['pet'].unique():\n",
    "    df = df_tag[df_tag.pet == t]\n",
    "    debug(df)\n",
    "    # tag_info.append([t['pet'],tags ])\n",
    "# df_tag=pd.DataFrame(tag_info, columns=['pet','clean_text'])\n",
    "# df_tag\n"
   ],
   "metadata": {
    "collapsed": false,
    "pycharm": {
     "name": "#%%\n"
    }
   }
  }
 ],
 "metadata": {
  "kernelspec": {
   "display_name": "Python 3",
   "language": "python",
   "name": "python3"
  },
  "language_info": {
   "codemirror_mode": {
    "name": "ipython",
    "version": 3
   },
   "file_extension": ".py",
   "mimetype": "text/x-python",
   "name": "python",
   "nbconvert_exporter": "python",
   "pygments_lexer": "ipython3",
   "version": "3.8.5"
  }
 },
 "nbformat": 4,
 "nbformat_minor": 1
}