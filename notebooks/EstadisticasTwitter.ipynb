{
 "cells": [
  {
   "cell_type": "code",
   "execution_count": 47,
   "outputs": [],
   "source": [
    "# noinspection JupyterPackage\n",
    "from collections import Counter\n",
    "import envs.twitter as credentials\n",
    "import datetime\n",
    "import tweepy\n",
    "import random\n",
    "import sys\n",
    "import json\n",
    "import pandas as pd\n",
    "\n",
    "#set seed\n",
    "random.seed(789)\n",
    "random_min=20\n",
    "random_max=100\n",
    "hashtags=[\n",
    "    \"VacunaCOVID19\",\n",
    "    \"sismo\",\n",
    "    \"WandaVision\",\n",
    "    \"UKlockdown3\",\n",
    "    \"Indonesia\",\n",
    "    \"iPhone\",\n",
    "    \"CES2021\",\n",
    "    \"Adictosdigitales\",\n",
    "    \"Tech\",\n",
    "    \"innovation\",\n",
    "    \"iphone\",\n",
    "    \"EE.UU\"]\n",
    "days_ago=5\n",
    "#default date_until to today\n",
    "date_until=datetime.date.today()\n",
    "#default date_since to N (days_ago) from today\n",
    "date_since=date_until - datetime.timedelta(days=days_ago)\n",
    "exclude_filter=\"retweets\""
   ],
   "metadata": {
    "collapsed": false,
    "pycharm": {
     "name": "#%%\n"
    }
   }
  },
  {
   "cell_type": "code",
   "execution_count": 48,
   "outputs": [
    {
     "name": "stdout",
     "output_type": "stream",
     "text": [
      "81\n"
     ]
    }
   ],
   "source": [
    "#generate random number, arguments used as limits\n",
    "def random_generator(min_arg=random_min,max_arg=random_max):\n",
    "    try:\n",
    "        random_result = random.randint(min_arg,max_arg)\n",
    "        print(random_result)\n",
    "        return random_result\n",
    "    except Exception:\n",
    "        print(\"Oops!\", sys.exc_info()[0], \"occurred.\")\n",
    "\n",
    "tweets_needed=random_generator()"
   ],
   "metadata": {
    "collapsed": false,
    "pycharm": {
     "name": "#%%\n"
    }
   }
  },
  {
   "cell_type": "code",
   "execution_count": 49,
   "outputs": [],
   "source": [
    "def get_tweets(\n",
    "        hashtag_arg,\n",
    "        count_arg=100,\n",
    "        tweets_arg=tweets_needed,\n",
    "        date_since_arg=date_since,\n",
    "        date_until_arg=date_until,\n",
    "        exclude_filter_arg=exclude_filter\n",
    "):\n",
    "    try:\n",
    "        # Authentication object creation - read only\n",
    "        auth = tweepy.AppAuthHandler(credentials.API_KEY, credentials.API_SECRET_KEY)\n",
    "        # API object creation\n",
    "        api = tweepy.API(auth, wait_on_rate_limit=True, wait_on_rate_limit_notify=True)\n",
    "        # Cursor search with filters\n",
    "        tweets = tweepy.Cursor(api.search,\n",
    "            q=\"#{} since:{} until:{} -filter:{}\".format(hashtag_arg,date_since_arg,date_until_arg,exclude_filter_arg),\n",
    "            count=count_arg\n",
    "        ).items(tweets_needed)\n",
    "        return tweets\n",
    "    except Exception:\n",
    "        print(\"Oops!\", sys.exc_info()[0], \"occurred.\")"
   ],
   "metadata": {
    "collapsed": false,
    "pycharm": {
     "name": "#%%\n"
    }
   }
  },
  {
   "cell_type": "code",
   "execution_count": 50,
   "outputs": [],
   "source": [
    "#extract tweet specific information argument should be tweet object\n",
    "def extract_tweet(tweet_arg):\n",
    "    extract=[\n",
    "        tweet_arg.id,\n",
    "        tweet_arg.created_at.strftime('%m/%d/%Y'),\n",
    "        tweet_arg.favorite_count,\n",
    "        tweet_arg.retweet_count,\n",
    "        tweet_arg.lang,\n",
    "        tweet_arg.text,\n",
    "        tweet_arg.author.id,\n",
    "        tweet_arg.author.name,\n",
    "        tweet_arg.author.screen_name,\n",
    "        tweet_arg.author.verified,\n",
    "        tweet_arg.author.followers_count\n",
    "    ]\n",
    "    return extract"
   ],
   "metadata": {
    "collapsed": false,
    "pycharm": {
     "name": "#%%\n"
    }
   }
  },
  {
   "cell_type": "code",
   "execution_count": 51,
   "outputs": [],
   "source": [
    "# extract required information, argument should be tweepy.models.SearchResults object\n",
    "def extract_info(results_arg):\n",
    "    extract_result=[]\n",
    "    for tweet in results_arg:\n",
    "       extract_result.append(extract_tweet(tweet))\n",
    "    return extract_result"
   ],
   "metadata": {
    "collapsed": false,
    "pycharm": {
     "name": "#%%\n"
    }
   }
  },
  {
   "cell_type": "code",
   "execution_count": 52,
   "outputs": [],
   "source": [
    "#create dictionary of tweets iterating thru all hastags in hastags list\n",
    "dictOfTweets = { i : extract_info(get_tweets(i,date_since_arg=\"2021-02-02\",date_until_arg=\"2021-02-07\")) for i in hashtags }"
   ],
   "metadata": {
    "collapsed": false,
    "pycharm": {
     "name": "#%%\n"
    }
   }
  },
  {
   "cell_type": "code",
   "execution_count": 53,
   "outputs": [],
   "source": [
    "#function that creates dataframes with specific cols, df based on hashtag. argument should be string with no #\n",
    "def df_create(hashtag_arg):\n",
    "    return pd.DataFrame(dictOfTweets[hashtag_arg],\n",
    "                  columns = [\n",
    "                      'id', 'date_dreated','favorite','retweet','language','content',\n",
    "                      'author_id','author_name','author_screen_name','verified','followers'\n",
    "                  ]\n",
    "                  )"
   ],
   "metadata": {
    "collapsed": false,
    "pycharm": {
     "name": "#%%\n"
    }
   }
  },
  {
   "cell_type": "markdown",
   "source": [
    "1.\tPropuesta de cómo medir la influencia de un usuario de la muestra.(2 puntos)\n"
   ],
   "metadata": {
    "collapsed": false
   }
  },
  {
   "cell_type": "markdown",
   "source": [
    "La propuesta para medir la influencia:\n",
    "Influencia = estimado_impportancia_retweets+estimado_importancia_favoritos+estimado_cantidad_tweets"
   ],
   "metadata": {
    "collapsed": false
   }
  },
  {
   "cell_type": "code",
   "execution_count": 54,
   "outputs": [],
   "source": [
    "def influence_calculator(df_arg):\n",
    "    df_arg['tweets_estimate'] = df_arg.groupby(['author_id'])['followers'].transform('count')/100\n",
    "    df_arg[\"favorite_estimate\"]=(10*df_arg[\"favorite\"])/df_arg[\"favorite\"].max()\n",
    "    df_arg[\"retweet_estimate\"]=(10*df_arg[\"retweet\"])/df_arg[\"retweet\"].max()\n",
    "    df_arg[\"influence\"]=df_arg[\"tweets_estimate\"]+df_arg[\"favorite_estimate\"]+df_arg[\"retweet_estimate\"]\n",
    "    df_arg.sort_values(by=['influence'], inplace=True,ascending=False)\n",
    "    influence=df_arg[[\"id\",\"author_screen_name\",\"influence\"]].head(5)\n",
    "    return influence"
   ],
   "metadata": {
    "collapsed": false,
    "pycharm": {
     "name": "#%%\n"
    }
   }
  },
  {
   "cell_type": "code",
   "execution_count": 54,
   "outputs": [],
   "source": [],
   "metadata": {
    "collapsed": false,
    "pycharm": {
     "name": "#%%\n"
    }
   }
  }
 ],
 "metadata": {
  "kernelspec": {
   "display_name": "Python 3",
   "language": "python",
   "name": "python3"
  },
  "language_info": {
   "codemirror_mode": {
    "name": "ipython",
    "version": 3
   },
   "file_extension": ".py",
   "mimetype": "text/x-python",
   "name": "python",
   "nbconvert_exporter": "python",
   "pygments_lexer": "ipython3",
   "version": "3.8.5"
  }
 },
 "nbformat": 4,
 "nbformat_minor": 1
}