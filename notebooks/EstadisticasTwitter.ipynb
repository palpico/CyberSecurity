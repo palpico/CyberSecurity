{
 "cells": [
  {
   "cell_type": "code",
   "execution_count": 66,
   "outputs": [],
   "source": [
    "# noinspection JupyterPackage\n",
    "from collections import Counter\n",
    "import envs.twitter as credentials\n",
    "import datetime\n",
    "import tweepy\n",
    "import random\n",
    "import sys\n",
    "import json\n",
    "import pandas as pd\n",
    "\n",
    "#set seed\n",
    "random.seed(789)\n",
    "random_min=20\n",
    "random_max=100\n",
    "hashtags=[\n",
    "    \"VacunaCOVID19\",\n",
    "    \"sismo\",\n",
    "    \"WandaVision\",\n",
    "    \"UKlockdown3\",\n",
    "    \"Indonesia\",\n",
    "    \"iPhone\",\n",
    "    \"CES2021\",\n",
    "    \"Adictosdigitales\",\n",
    "    \"Tech\",\n",
    "    \"innovation\",\n",
    "    \"iphone\",\n",
    "    \"EE.UU\"]\n",
    "days_ago=5\n",
    "#default date_until to today\n",
    "date_until=datetime.date.today()\n",
    "#default date_since to N (days_ago) from today\n",
    "date_since=date_until - datetime.timedelta(days=days_ago)\n",
    "exclude_filter=\"retweets\""
   ],
   "metadata": {
    "collapsed": false,
    "pycharm": {
     "name": "#%%\n"
    }
   }
  },
  {
   "cell_type": "code",
   "execution_count": 67,
   "outputs": [
    {
     "name": "stdout",
     "output_type": "stream",
     "text": [
      "81\n"
     ]
    }
   ],
   "source": [
    "#generate random number, arguments used as limits\n",
    "def random_generator(min_arg=random_min,max_arg=random_max):\n",
    "    try:\n",
    "        random_result = random.randint(min_arg,max_arg)\n",
    "        print(random_result)\n",
    "        return random_result\n",
    "    except Exception:\n",
    "        print(\"Oops!\", sys.exc_info()[0], \"occurred.\")\n",
    "\n",
    "tweets_needed=random_generator()"
   ],
   "metadata": {
    "collapsed": false,
    "pycharm": {
     "name": "#%%\n"
    }
   }
  },
  {
   "cell_type": "code",
   "execution_count": 68,
   "outputs": [],
   "source": [
    "def get_tweets(\n",
    "        hashtag_arg,\n",
    "        count_arg=100,\n",
    "        tweets_arg=tweets_needed,\n",
    "        date_since_arg=date_since,\n",
    "        date_until_arg=date_until,\n",
    "        exclude_filter_arg=exclude_filter\n",
    "):\n",
    "    try:\n",
    "        # Authentication object creation - read only\n",
    "        auth = tweepy.AppAuthHandler(credentials.API_KEY, credentials.API_SECRET_KEY)\n",
    "        # API object creation\n",
    "        api = tweepy.API(auth, wait_on_rate_limit=True, wait_on_rate_limit_notify=True)\n",
    "        # Cursor search with filters\n",
    "        tweets = tweepy.Cursor(api.search,\n",
    "            q=\"#{} since:{} until:{} -filter:{}\".format(hashtag_arg,date_since_arg,date_until_arg,exclude_filter_arg),\n",
    "            count=count_arg\n",
    "        ).items(tweets_needed)\n",
    "        return tweets\n",
    "    except Exception:\n",
    "        print(\"Oops!\", sys.exc_info()[0], \"occurred.\")"
   ],
   "metadata": {
    "collapsed": false,
    "pycharm": {
     "name": "#%%\n"
    }
   }
  },
  {
   "cell_type": "code",
   "execution_count": 69,
   "outputs": [],
   "source": [
    "#extract tweet specific information argument should be tweet object\n",
    "def extract_tweet(tweet_arg):\n",
    "    extract=[\n",
    "        tweet_arg.id,\n",
    "        tweet_arg.created_at.strftime('%m/%d/%Y'),\n",
    "        tweet_arg.favorite_count,\n",
    "        tweet_arg.retweet_count,\n",
    "        tweet_arg.lang,\n",
    "        tweet_arg.text,\n",
    "        tweet_arg.author.id,\n",
    "        tweet_arg.author.name,\n",
    "        tweet_arg.author.screen_name,\n",
    "        tweet_arg.author.verified,\n",
    "        tweet_arg.author.followers_count\n",
    "    ]\n",
    "    return extract"
   ],
   "metadata": {
    "collapsed": false,
    "pycharm": {
     "name": "#%%\n"
    }
   }
  },
  {
   "cell_type": "code",
   "execution_count": 70,
   "outputs": [],
   "source": [
    "# extract required information, argument should be tweepy.models.SearchResults object\n",
    "def extract_info(results_arg):\n",
    "    extract_result=[]\n",
    "    for tweet in results_arg:\n",
    "       extract_result.append(extract_tweet(tweet))\n",
    "    return extract_result"
   ],
   "metadata": {
    "collapsed": false,
    "pycharm": {
     "name": "#%%\n"
    }
   }
  },
  {
   "cell_type": "code",
   "execution_count": 71,
   "outputs": [],
   "source": [
    "#create dictionary of tweets iterating thru all hastags in hastags list\n",
    "dictOfTweets = { i : extract_info(get_tweets(i,date_since_arg=\"2021-02-02\",date_until_arg=\"2021-02-07\")) for i in hashtags }"
   ],
   "metadata": {
    "collapsed": false,
    "pycharm": {
     "name": "#%%\n"
    }
   }
  },
  {
   "cell_type": "code",
   "execution_count": 72,
   "outputs": [],
   "source": [
    "#function that creates dataframes with specific cols, df based on hashtag. argument should be string with no #\n",
    "def df_create(hashtag_arg):\n",
    "    return pd.DataFrame(dictOfTweets[hashtag_arg],\n",
    "                  columns = [\n",
    "                      'id', 'date_dreated','favorite','retweet','language','content',\n",
    "                      'author_id','author_name','author_screen_name','verified','followers'\n",
    "                  ]\n",
    "                  )"
   ],
   "metadata": {
    "collapsed": false,
    "pycharm": {
     "name": "#%%\n"
    }
   }
  },
  {
   "cell_type": "markdown",
   "source": [
    "1.\tPropuesta de cómo medir la influencia de un usuario de la muestra.(2 puntos)\n"
   ],
   "metadata": {
    "collapsed": false
   }
  },
  {
   "cell_type": "markdown",
   "source": [
    "La propuesta para medir la influencia:\n",
    "Influencia = estimado_impportancia_retweets+estimado_importancia_favoritos+estimado_cantidad_tweets"
   ],
   "metadata": {
    "collapsed": false
   }
  },
  {
   "cell_type": "code",
   "execution_count": 73,
   "outputs": [],
   "source": [
    "def influence_calculator(df_arg):\n",
    "    df_arg['tweets_estimate'] = df_arg.groupby(['author_id'])['followers'].transform('count')/100\n",
    "    df_arg[\"favorite_estimate\"]=(10*df_arg[\"favorite\"])/df_arg[\"favorite\"].max()\n",
    "    df_arg[\"retweet_estimate\"]=(10*df_arg[\"retweet\"])/df_arg[\"retweet\"].max()\n",
    "    df_arg[\"influence\"]=df_arg[\"tweets_estimate\"]+df_arg[\"favorite_estimate\"]+df_arg[\"retweet_estimate\"]\n",
    "    df_arg.sort_values(by=['influence'], inplace=True,ascending=False)\n",
    "    influence=df_arg[[\"id\",\"author_screen_name\",\"influence\"]].head(5)\n",
    "    return influence"
   ],
   "metadata": {
    "collapsed": false,
    "pycharm": {
     "name": "#%%\n"
    }
   }
  },
  {
   "cell_type": "code",
   "execution_count": 74,
   "outputs": [],
   "source": [
    "#funcion para establecer la actividad de un hashtag en base a la fecha de los tweets recolectados, argumento= dataframe\n",
    "def day_activity(df_arg):\n",
    "    activity = df_arg.pivot_table(index=['date_dreated'], aggfunc='size')\n",
    "    df_days = pd.DataFrame(activity, columns = ['count'])\n",
    "    df_days.sort_values(by=['count'], inplace=True,ascending=False)\n",
    "    return df_days"
   ],
   "metadata": {
    "collapsed": false,
    "pycharm": {
     "name": "#%%\n"
    }
   }
  },
  {
   "cell_type": "code",
   "execution_count": 75,
   "outputs": [],
   "source": [
    "# creacion individual de dataframes para cada hashtag\n",
    "df_VacunaCOVID19= df_create(\"VacunaCOVID19\")\n",
    "df_sismo= df_create(\"sismo\")\n",
    "df_WandaVision= df_create(\"WandaVision\")\n",
    "df_UKlockdown3= df_create(\"UKlockdown3\")\n",
    "df_Indonesia= df_create(\"Indonesia\")\n",
    "df_iPhone= df_create(\"iPhone\")\n",
    "df_CES2021= df_create(\"CES2021\")\n",
    "df_Adictosdigitales= df_create(\"Adictosdigitales\")\n",
    "df_Tech= df_create(\"Tech\")\n",
    "df_innovation= df_create(\"innovation\")\n",
    "df_iphone= df_create(\"iphone\")\n",
    "df_EEUU= df_create(\"EE.UU\")"
   ],
   "metadata": {
    "collapsed": false,
    "pycharm": {
     "name": "#%%\n"
    }
   }
  },
  {
   "cell_type": "markdown",
   "source": [
    "2.\tUtilizando la propuesta hecha procede a ranquear al top cinco de usuarios más influyentes.  (3 puntos)\n",
    "3.\tVisualiza la actividad por día de cada uno de los hashtags, indicando el día de mayor actividad.   (5 puntos)"
   ],
   "metadata": {
    "collapsed": false
   }
  },
  {
   "cell_type": "code",
   "execution_count": 76,
   "outputs": [
    {
     "name": "stdout",
     "output_type": "stream",
     "text": [
      "Top cinco de usuarios más influyentes para #VacunaCOVID19\n",
      "\n",
      "                     id author_screen_name  influence\n",
      "72  1358140563120402432         sanidadgob  20.010000\n",
      "33  1358179051488305153            dmacuna  14.217317\n",
      "40  1358172562417618946      rochimonterom   6.142791\n",
      "76  1358134868543160327     SaludPublicaEs   5.276938\n",
      "19  1358188772614156289           CMP_PERU   2.584526\n",
      "\n",
      "Actividad por día de cada para #VacunaCOVID19\n",
      "\n",
      "              count\n",
      "date_dreated       \n",
      "02/06/2021       81\n",
      "\n",
      "Dia con mayor actividad:\n",
      "              count\n",
      "date_dreated       \n",
      "02/06/2021       81\n",
      "*****************************************************************\n",
      "Top cinco de usuarios más influyentes para #sismo\n",
      "\n",
      "                     id author_screen_name  influence\n",
      "63  1358162532867989515         onemichile  20.010000\n",
      "20  1358195078326595585            ASMXBOT   5.157059\n",
      "56  1358163102257283073     ChileAlertaApp   4.708824\n",
      "76  1358162224183980033      SismoDetector   3.442353\n",
      "57  1358163096427245569      SismoDetector   3.295294\n",
      "\n",
      "Actividad por día de cada para #sismo\n",
      "\n",
      "              count\n",
      "date_dreated       \n",
      "02/06/2021       81\n",
      "\n",
      "Dia con mayor actividad:\n",
      "              count\n",
      "date_dreated       \n",
      "02/06/2021       81\n",
      "*****************************************************************\n",
      "Top cinco de usuarios más influyentes para #WandaVision\n",
      "\n",
      "                     id author_screen_name  influence\n",
      "1   1358203781251534849    iamtherebelspy1  20.010000\n",
      "54  1358202911298379780     CineFX_Digital   5.460489\n",
      "10  1358203618898436096      johnpavlovitz   2.447101\n",
      "68  1358202658042036226         roguerosa_   1.537660\n",
      "30  1358203360923508741        revengehaze   1.001383\n",
      "\n",
      "Actividad por día de cada para #WandaVision\n",
      "\n",
      "              count\n",
      "date_dreated       \n",
      "02/06/2021       81\n",
      "\n",
      "Dia con mayor actividad:\n",
      "              count\n",
      "date_dreated       \n",
      "02/06/2021       81\n",
      "*****************************************************************\n",
      "Top cinco de usuarios más influyentes para #UKlockdown3\n",
      "\n",
      "                    id author_screen_name  influence\n",
      "2  1357624737627840514        emmamonkman    20.0200\n",
      "0  1358032907743420419        emmamonkman     4.0825\n",
      "1  1357652789527257088      nhscommentary     0.3225\n",
      "\n",
      "Actividad por día de cada para #UKlockdown3\n",
      "\n",
      "              count\n",
      "date_dreated       \n",
      "02/05/2021        2\n",
      "02/06/2021        1\n",
      "\n",
      "Dia con mayor actividad:\n",
      "              count\n",
      "date_dreated       \n",
      "02/05/2021        2\n",
      "*****************************************************************\n",
      "Top cinco de usuarios más influyentes para #Indonesia\n",
      "\n",
      "                     id author_screen_name  influence\n",
      "80  1358166851956670467       deZabedrosky     20.010\n",
      "25  1358193001403740160    SupremeMasterJP      9.385\n",
      "40  1358188729110720513         Echinanews      8.260\n",
      "61  1358178153810845696           CpuSales      6.885\n",
      "54  1358182678353178625          maximos62      6.760\n",
      "\n",
      "Actividad por día de cada para #Indonesia\n",
      "\n",
      "              count\n",
      "date_dreated       \n",
      "02/06/2021       81\n",
      "\n",
      "Dia con mayor actividad:\n",
      "              count\n",
      "date_dreated       \n",
      "02/06/2021       81\n",
      "*****************************************************************\n",
      "Top cinco de usuarios más influyentes para #iPhone\n",
      "\n",
      "                     id author_screen_name  influence\n",
      "21  1358197940339105795    iSS_mutu_aomori  13.156067\n",
      "63  1358189163409854464          Karil_KTF  11.121111\n",
      "62  1358189182888398848         shaun_riaz   7.912622\n",
      "55  1358189742525845504       mikepunch358   5.365805\n",
      "69  1358188219997765633      Satomimitsuki   5.265930\n",
      "\n",
      "Actividad por día de cada para #iPhone\n",
      "\n",
      "              count\n",
      "date_dreated       \n",
      "02/06/2021       81\n",
      "\n",
      "Dia con mayor actividad:\n",
      "              count\n",
      "date_dreated       \n",
      "02/06/2021       81\n",
      "*****************************************************************\n",
      "Top cinco de usuarios más influyentes para #CES2021\n",
      "\n",
      "                     id author_screen_name  influence\n",
      "34  1357942486665211905          mvollmer1  17.126774\n",
      "21  1358006992539770880    domains_perfect  13.085556\n",
      "19  1358008364316250112    domains_perfect   9.214588\n",
      "14  1358047230918279168       persianclick   8.988495\n",
      "20  1358007706833981440    domains_perfect   8.793441\n",
      "\n",
      "Actividad por día de cada para #CES2021\n",
      "\n",
      "              count\n",
      "date_dreated       \n",
      "02/06/2021       45\n",
      "02/05/2021       36\n",
      "\n",
      "Dia con mayor actividad:\n",
      "              count\n",
      "date_dreated       \n",
      "02/06/2021       45\n",
      "*****************************************************************\n",
      "Top cinco de usuarios más influyentes para #Adictosdigitales\n",
      "\n",
      "                    id author_screen_name  influence\n",
      "2  1357841859754737666     DrogaDigitalMx  15.605556\n",
      "4  1357662640257064962     DrogaDigitalMx  15.605556\n",
      "3  1357812046679654407     DrogaDigitalMx  10.050000\n",
      "1  1357875831943659526     DrogaDigitalMx   2.642593\n",
      "0  1357965386503909376     DrogaDigitalMx   1.901852\n",
      "\n",
      "Actividad por día de cada para #Adictosdigitales\n",
      "\n",
      "              count\n",
      "date_dreated       \n",
      "02/06/2021        3\n",
      "02/05/2021        2\n",
      "\n",
      "Dia con mayor actividad:\n",
      "              count\n",
      "date_dreated       \n",
      "02/06/2021        3\n",
      "*****************************************************************\n",
      "Top cinco de usuarios más influyentes para #Tech\n",
      "\n",
      "                     id author_screen_name  influence\n",
      "1   1358203700137914370           KeaneDA1  20.010000\n",
      "4   1358203459166683136           Strat_AI  17.162778\n",
      "71  1358198928735432704     PawlowskiMario   6.878056\n",
      "61  1358199636729630720          CDWGWAGov   2.294722\n",
      "52  1358200062598385666       Notes_Theory   1.419722\n",
      "\n",
      "Actividad por día de cada para #Tech\n",
      "\n",
      "              count\n",
      "date_dreated       \n",
      "02/06/2021       81\n",
      "\n",
      "Dia con mayor actividad:\n",
      "              count\n",
      "date_dreated       \n",
      "02/06/2021       81\n",
      "*****************************************************************\n",
      "Top cinco de usuarios más influyentes para #innovation\n",
      "\n",
      "                     id author_screen_name  influence\n",
      "40  1358191832207929346           AI_Miami  16.744138\n",
      "1   1358203459166683136           Strat_AI  13.949220\n",
      "74  1358181098463887364     PawlowskiMario  13.869649\n",
      "35  1358192616920256512           Strat_AI   6.983097\n",
      "37  1358192499458625537       SCAsolutions   5.669407\n",
      "\n",
      "Actividad por día de cada para #innovation\n",
      "\n",
      "              count\n",
      "date_dreated       \n",
      "02/06/2021       81\n",
      "\n",
      "Dia con mayor actividad:\n",
      "              count\n",
      "date_dreated       \n",
      "02/06/2021       81\n",
      "*****************************************************************\n",
      "Top cinco de usuarios más influyentes para #iphone\n",
      "\n",
      "                     id author_screen_name  influence\n",
      "21  1358197940339105795    iSS_mutu_aomori  13.156067\n",
      "63  1358189163409854464          Karil_KTF  11.121111\n",
      "62  1358189182888398848         shaun_riaz   7.912622\n",
      "55  1358189742525845504       mikepunch358   5.365805\n",
      "69  1358188219997765633      Satomimitsuki   5.265930\n",
      "\n",
      "Actividad por día de cada para #iphone\n",
      "\n",
      "              count\n",
      "date_dreated       \n",
      "02/06/2021       81\n",
      "\n",
      "Dia con mayor actividad:\n",
      "              count\n",
      "date_dreated       \n",
      "02/06/2021       81\n",
      "*****************************************************************\n",
      "Top cinco de usuarios más influyentes para #EE.UU\n",
      "\n",
      "                     id author_screen_name  influence\n",
      "25  1358199828006772739     nicolini_norma  18.206721\n",
      "21  1358200243851055111          ultimahsv  10.954444\n",
      "28  1358199576377851904        tcsnoticias   7.188506\n",
      "23  1358200047817613313       ActualidadRT   6.279563\n",
      "10  1358202564412542977       ActualidadRT   6.108342\n",
      "\n",
      "Actividad por día de cada para #EE.UU\n",
      "\n",
      "              count\n",
      "date_dreated       \n",
      "02/06/2021       81\n",
      "\n",
      "Dia con mayor actividad:\n",
      "              count\n",
      "date_dreated       \n",
      "02/06/2021       81\n",
      "*****************************************************************\n"
     ]
    }
   ],
   "source": [
    "#mostrar rankings\n",
    "def hashtag_info(hashtag_arg):\n",
    "    print(\"Top cinco de usuarios más influyentes para #{}\".format(hashtag_arg))\n",
    "    print(\"\")\n",
    "    ic=influence_calculator(df_create(hashtag_arg))\n",
    "    print(ic)\n",
    "    print(\"\")\n",
    "    print(\"Actividad por día de cada para #{}\".format(hashtag_arg))\n",
    "    print(\"\")\n",
    "    da=day_activity(df_create(hashtag_arg))\n",
    "    print(da)\n",
    "    print(\"\")\n",
    "    print(\"Dia con mayor actividad:\")\n",
    "    print(da.head(1))\n",
    "    print(\"*****************************************************************\")\n",
    "\n",
    "for hashtag in hashtags:\n",
    "    hashtag_info(hashtag)"
   ],
   "metadata": {
    "collapsed": false,
    "pycharm": {
     "name": "#%%\n"
    }
   }
  },
  {
   "cell_type": "markdown",
   "source": [
    "Combina las muestras de cada uno de los hashtags en un dataset global."
   ],
   "metadata": {
    "collapsed": false
   }
  },
  {
   "cell_type": "code",
   "execution_count": 77,
   "outputs": [],
   "source": [
    "#Concatenar dataframes\n",
    "df_global = pd.concat([\n",
    "    df_VacunaCOVID19, df_sismo, df_WandaVision,\n",
    "    df_UKlockdown3, df_Indonesia, df_iPhone,\n",
    "    df_CES2021, df_Adictosdigitales, df_Tech,\n",
    "    df_innovation, df_iphone, df_EEUU,\n",
    "], ignore_index=True, sort=False)"
   ],
   "metadata": {
    "collapsed": false,
    "pycharm": {
     "name": "#%%\n"
    }
   }
  },
  {
   "cell_type": "markdown",
   "source": [
    "4.\tCrea un ranking del top 5 de los hashtags más utilizados.   (3 puntos)"
   ],
   "metadata": {
    "collapsed": false
   }
  },
  {
   "cell_type": "code",
   "execution_count": 78,
   "outputs": [
    {
     "data": {
      "text/plain": "                count\nhashtags             \n#iPhone            79\n#WandaVision       65\n#Tech              46\n#VacunaCOVID19     37\n#Techno            34",
      "text/html": "<div>\n<style scoped>\n    .dataframe tbody tr th:only-of-type {\n        vertical-align: middle;\n    }\n\n    .dataframe tbody tr th {\n        vertical-align: top;\n    }\n\n    .dataframe thead th {\n        text-align: right;\n    }\n</style>\n<table border=\"1\" class=\"dataframe\">\n  <thead>\n    <tr style=\"text-align: right;\">\n      <th></th>\n      <th>count</th>\n    </tr>\n    <tr>\n      <th>hashtags</th>\n      <th></th>\n    </tr>\n  </thead>\n  <tbody>\n    <tr>\n      <th>#iPhone</th>\n      <td>79</td>\n    </tr>\n    <tr>\n      <th>#WandaVision</th>\n      <td>65</td>\n    </tr>\n    <tr>\n      <th>#Tech</th>\n      <td>46</td>\n    </tr>\n    <tr>\n      <th>#VacunaCOVID19</th>\n      <td>37</td>\n    </tr>\n    <tr>\n      <th>#Techno</th>\n      <td>34</td>\n    </tr>\n  </tbody>\n</table>\n</div>"
     },
     "execution_count": 78,
     "metadata": {},
     "output_type": "execute_result"
    }
   ],
   "source": [
    "all_hashtags=[]\n",
    "for row in df_global['content']:\n",
    "    all_hashtags.extend([i  for i in row.split() if i.startswith(\"#\") ])\n",
    "hashtag_count = pd.DataFrame(all_hashtags,columns = ['hashtags'])\n",
    "hasthtag_activity = hashtag_count.pivot_table(index=['hashtags'], aggfunc='size')\n",
    "df_hash_count = pd.DataFrame(hasthtag_activity, columns = ['count'])\n",
    "df_hash_count.sort_values(by=['count'], inplace=True,ascending=False)\n",
    "df_hash_count.head(5)"
   ],
   "metadata": {
    "collapsed": false,
    "pycharm": {
     "name": "#%%\n"
    }
   }
  },
  {
   "cell_type": "markdown",
   "source": [
    "5.\tCrea un ranking del top 5 de usuarios con mayor número de followers.  (3 puntos)"
   ],
   "metadata": {
    "collapsed": false
   }
  },
  {
   "cell_type": "code",
   "execution_count": 79,
   "outputs": [
    {
     "data": {
      "text/plain": "                    id author_screen_name  followers\n0  1358203591601893383            ZELL_tw         61\n1  1358203082824241152    peruenlanoticia      55161\n2  1358201833852968962     franciscoweber        690\n3  1358201306251464704        AbstractoNL        831\n4  1358199742057107457      LilianaAmeiro        433",
      "text/html": "<div>\n<style scoped>\n    .dataframe tbody tr th:only-of-type {\n        vertical-align: middle;\n    }\n\n    .dataframe tbody tr th {\n        vertical-align: top;\n    }\n\n    .dataframe thead th {\n        text-align: right;\n    }\n</style>\n<table border=\"1\" class=\"dataframe\">\n  <thead>\n    <tr style=\"text-align: right;\">\n      <th></th>\n      <th>id</th>\n      <th>author_screen_name</th>\n      <th>followers</th>\n    </tr>\n  </thead>\n  <tbody>\n    <tr>\n      <th>0</th>\n      <td>1358203591601893383</td>\n      <td>ZELL_tw</td>\n      <td>61</td>\n    </tr>\n    <tr>\n      <th>1</th>\n      <td>1358203082824241152</td>\n      <td>peruenlanoticia</td>\n      <td>55161</td>\n    </tr>\n    <tr>\n      <th>2</th>\n      <td>1358201833852968962</td>\n      <td>franciscoweber</td>\n      <td>690</td>\n    </tr>\n    <tr>\n      <th>3</th>\n      <td>1358201306251464704</td>\n      <td>AbstractoNL</td>\n      <td>831</td>\n    </tr>\n    <tr>\n      <th>4</th>\n      <td>1358199742057107457</td>\n      <td>LilianaAmeiro</td>\n      <td>433</td>\n    </tr>\n  </tbody>\n</table>\n</div>"
     },
     "execution_count": 79,
     "metadata": {},
     "output_type": "execute_result"
    }
   ],
   "source": [
    "df_global_user=df_global\n",
    "df_global_user=df_global_user.drop_duplicates(subset=['author_id'])\n",
    "df_global_user.sort_values(by=['followers'], inplace=False,ascending=False)\n",
    "df_global_user[[\"id\",\"author_screen_name\",\"followers\"]].head(5)\n"
   ],
   "metadata": {
    "collapsed": false,
    "pycharm": {
     "name": "#%%\n"
    }
   }
  },
  {
   "cell_type": "markdown",
   "source": [
    "6.\tCrea un ranking del top 3 de idiomas más utilizados.  (2 puntos)"
   ],
   "metadata": {
    "collapsed": false
   }
  },
  {
   "cell_type": "code",
   "execution_count": 80,
   "outputs": [
    {
     "data": {
      "text/plain": "          count\nlanguage       \nen          324\nes          241\nja           98",
      "text/html": "<div>\n<style scoped>\n    .dataframe tbody tr th:only-of-type {\n        vertical-align: middle;\n    }\n\n    .dataframe tbody tr th {\n        vertical-align: top;\n    }\n\n    .dataframe thead th {\n        text-align: right;\n    }\n</style>\n<table border=\"1\" class=\"dataframe\">\n  <thead>\n    <tr style=\"text-align: right;\">\n      <th></th>\n      <th>count</th>\n    </tr>\n    <tr>\n      <th>language</th>\n      <th></th>\n    </tr>\n  </thead>\n  <tbody>\n    <tr>\n      <th>en</th>\n      <td>324</td>\n    </tr>\n    <tr>\n      <th>es</th>\n      <td>241</td>\n    </tr>\n    <tr>\n      <th>ja</th>\n      <td>98</td>\n    </tr>\n  </tbody>\n</table>\n</div>"
     },
     "execution_count": 80,
     "metadata": {},
     "output_type": "execute_result"
    }
   ],
   "source": [
    "df_global_language = df_global.pivot_table(index=['language'], aggfunc='size')\n",
    "df_language = pd.DataFrame(df_global_language, columns = ['count'])\n",
    "df_language.sort_values(by=['count'], inplace=True,ascending=False)\n",
    "df_language.head(3)"
   ],
   "metadata": {
    "collapsed": false,
    "pycharm": {
     "name": "#%%\n"
    }
   }
  },
  {
   "cell_type": "markdown",
   "source": [
    "7.\tVisualizar el porcentaje de usuarios verificados totales versus los no verificados  (2 puntos)"
   ],
   "metadata": {
    "collapsed": false
   }
  },
  {
   "cell_type": "code",
   "execution_count": 81,
   "outputs": [
    {
     "data": {
      "text/plain": "          count      %\nverified              \nFalse       775  94.74\nTrue         43   5.26",
      "text/html": "<div>\n<style scoped>\n    .dataframe tbody tr th:only-of-type {\n        vertical-align: middle;\n    }\n\n    .dataframe tbody tr th {\n        vertical-align: top;\n    }\n\n    .dataframe thead th {\n        text-align: right;\n    }\n</style>\n<table border=\"1\" class=\"dataframe\">\n  <thead>\n    <tr style=\"text-align: right;\">\n      <th></th>\n      <th>count</th>\n      <th>%</th>\n    </tr>\n    <tr>\n      <th>verified</th>\n      <th></th>\n      <th></th>\n    </tr>\n  </thead>\n  <tbody>\n    <tr>\n      <th>False</th>\n      <td>775</td>\n      <td>94.74</td>\n    </tr>\n    <tr>\n      <th>True</th>\n      <td>43</td>\n      <td>5.26</td>\n    </tr>\n  </tbody>\n</table>\n</div>"
     },
     "execution_count": 81,
     "metadata": {},
     "output_type": "execute_result"
    }
   ],
   "source": [
    "df_global_verified = df_global.pivot_table(index=['verified'], aggfunc='size')\n",
    "df_verified = pd.DataFrame(df_global_verified, columns = ['count'])\n",
    "df_verified['%']=round((df_verified['count']*100)/len(df_global),2)\n",
    "df_verified.sort_values(by=['count'], inplace=True,ascending=False)\n",
    "df_verified"
   ],
   "metadata": {
    "collapsed": false,
    "pycharm": {
     "name": "#%%\n"
    }
   }
  }
 ],
 "metadata": {
  "kernelspec": {
   "display_name": "Python 3",
   "language": "python",
   "name": "python3"
  },
  "language_info": {
   "codemirror_mode": {
    "name": "ipython",
    "version": 3
   },
   "file_extension": ".py",
   "mimetype": "text/x-python",
   "name": "python",
   "nbconvert_exporter": "python",
   "pygments_lexer": "ipython3",
   "version": "3.8.5"
  }
 },
 "nbformat": 4,
 "nbformat_minor": 1
}